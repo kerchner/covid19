{
  "nbformat": 4,
  "nbformat_minor": 0,
  "metadata": {
    "colab": {
      "name": "COVID19.ipynb",
      "provenance": []
    },
    "kernelspec": {
      "name": "python3",
      "display_name": "Python 3"
    }
  },
  "cells": [
    {
      "cell_type": "markdown",
      "metadata": {
        "id": "B9o8pueR6S6c",
        "colab_type": "text"
      },
      "source": [
        "## Get daily COVID19 report data as tidy data using the covid19.mathdro.id API\n",
        "\n",
        "The covid19.mathdro.id API (documentation at https://github.com/mathdroid/covid-19-api ) can return ALL daily reports using this method:\n",
        "\n",
        "- `/api/daily/[date]`: detail of updates in a [date] (e.g. /api/daily/2-14-2020)\n",
        "\n",
        "What we'd like to do is collect ALL of the reports, and compile into \"tidy data\" format that we can then work with.\n",
        "\n"
      ]
    },
    {
      "cell_type": "markdown",
      "metadata": {
        "id": "tL8EYyLD6edK",
        "colab_type": "text"
      },
      "source": [
        "### Set up Python libraries and API base"
      ]
    },
    {
      "cell_type": "code",
      "metadata": {
        "id": "-Cnyr8hNNgqq",
        "colab_type": "code",
        "colab": {}
      },
      "source": [
        "import requests\n",
        "import pandas as pd\n",
        "from datetime import datetime\n",
        "\n",
        "API_BASE_URL = 'https://covid19.mathdro.id/api'"
      ],
      "execution_count": 0,
      "outputs": []
    },
    {
      "cell_type": "markdown",
      "metadata": {
        "id": "q2B1E8IF4ddP",
        "colab_type": "text"
      },
      "source": [
        "### Get daily case summaries\n",
        "\n",
        "We first need to know which dates we can request reports from.  We're going to use the result of the `/daily` API method just to get the range of dates available:"
      ]
    },
    {
      "cell_type": "code",
      "metadata": {
        "id": "SBP5W3BbN3GB",
        "colab_type": "code",
        "colab": {}
      },
      "source": [
        "daily_cases = requests.get(API_BASE_URL + '/daily').json()"
      ],
      "execution_count": 0,
      "outputs": []
    },
    {
      "cell_type": "markdown",
      "metadata": {
        "id": "1LPx7bhE4mjJ",
        "colab_type": "text"
      },
      "source": [
        "Go through the cases and pull out the `reportDateString` value, adding these to a Python list as we go along."
      ]
    },
    {
      "cell_type": "code",
      "metadata": {
        "id": "WVkt2HNeTnyv",
        "colab_type": "code",
        "colab": {}
      },
      "source": [
        "day_data = []\n",
        "for day_cases in daily_cases:\n",
        "  # day_cases['reportDateString'] = pd.to_datetime(day_cases['reportDateString'])\n",
        "  day_data.append(day_cases['reportDateString'])"
      ],
      "execution_count": 0,
      "outputs": []
    },
    {
      "cell_type": "markdown",
      "metadata": {
        "id": "V5VHWmpk4tjg",
        "colab_type": "text"
      },
      "source": [
        "This is what our list looks like:"
      ]
    },
    {
      "cell_type": "code",
      "metadata": {
        "id": "vo3ZHS8nWedB",
        "colab_type": "code",
        "outputId": "7ff94a27-8a9a-4f25-aaba-cf1656673c62",
        "colab": {
          "base_uri": "https://localhost:8080/",
          "height": 170
        }
      },
      "source": [
        "day_data[1:10]"
      ],
      "execution_count": 4,
      "outputs": [
        {
          "output_type": "execute_result",
          "data": {
            "text/plain": [
              "['2020/01/21',\n",
              " '2020/01/22',\n",
              " '2020/01/23',\n",
              " '2020/01/24',\n",
              " '2020/01/25',\n",
              " '2020/01/26',\n",
              " '2020/01/27',\n",
              " '2020/01/28',\n",
              " '2020/01/29']"
            ]
          },
          "metadata": {
            "tags": []
          },
          "execution_count": 4
        }
      ]
    },
    {
      "cell_type": "markdown",
      "metadata": {
        "id": "CHKUtKup4wlg",
        "colab_type": "text"
      },
      "source": [
        "### Request daily detail for each day\n",
        "\n",
        "Using the `daily/[date]` API method, and our list of dates, we get a list of daily detail reports (one for each location with a report for that day).  This entails 1 API call per day available.  We'll store these report lists in a list which we'll call `all_days_detail`.\n",
        "\n",
        "Note that we have to convert date formats to make this work."
      ]
    },
    {
      "cell_type": "code",
      "metadata": {
        "id": "FqovHp0NSYjE",
        "colab_type": "code",
        "outputId": "21ea8a08-79c1-4559-c60f-56c6f9378982",
        "colab": {
          "base_uri": "https://localhost:8080/",
          "height": 969
        }
      },
      "source": [
        "all_days_detail = []\n",
        "for day in day_data:\n",
        "  # Convert 2020/12/01 to 12-1-2020 without the zeroes\n",
        "  day_as_datetime = datetime.strptime(day, '%Y/%m/%d')\n",
        "  date_day = day_as_datetime.day\n",
        "  date_month = day_as_datetime.month\n",
        "  date_year = day_as_datetime.year\n",
        "  day_with_dashes = '%d-%d-%d' % (date_month, date_day, date_year)\n",
        "  print(API_BASE_URL + '/daily/' + day_with_dashes)\n",
        "  day_detail = requests.get(API_BASE_URL + '/daily/' + day_with_dashes).json()\n",
        "  all_days_detail.append(day_detail)"
      ],
      "execution_count": 5,
      "outputs": [
        {
          "output_type": "stream",
          "text": [
            "https://covid19.mathdro.id/api/daily/1-20-2020\n",
            "https://covid19.mathdro.id/api/daily/1-21-2020\n",
            "https://covid19.mathdro.id/api/daily/1-22-2020\n",
            "https://covid19.mathdro.id/api/daily/1-23-2020\n",
            "https://covid19.mathdro.id/api/daily/1-24-2020\n",
            "https://covid19.mathdro.id/api/daily/1-25-2020\n",
            "https://covid19.mathdro.id/api/daily/1-26-2020\n",
            "https://covid19.mathdro.id/api/daily/1-27-2020\n",
            "https://covid19.mathdro.id/api/daily/1-28-2020\n",
            "https://covid19.mathdro.id/api/daily/1-29-2020\n",
            "https://covid19.mathdro.id/api/daily/1-30-2020\n",
            "https://covid19.mathdro.id/api/daily/1-31-2020\n",
            "https://covid19.mathdro.id/api/daily/2-1-2020\n",
            "https://covid19.mathdro.id/api/daily/2-2-2020\n",
            "https://covid19.mathdro.id/api/daily/2-3-2020\n",
            "https://covid19.mathdro.id/api/daily/2-4-2020\n",
            "https://covid19.mathdro.id/api/daily/2-5-2020\n",
            "https://covid19.mathdro.id/api/daily/2-6-2020\n",
            "https://covid19.mathdro.id/api/daily/2-7-2020\n",
            "https://covid19.mathdro.id/api/daily/2-8-2020\n",
            "https://covid19.mathdro.id/api/daily/2-9-2020\n",
            "https://covid19.mathdro.id/api/daily/2-10-2020\n",
            "https://covid19.mathdro.id/api/daily/2-11-2020\n",
            "https://covid19.mathdro.id/api/daily/2-12-2020\n",
            "https://covid19.mathdro.id/api/daily/2-13-2020\n",
            "https://covid19.mathdro.id/api/daily/2-14-2020\n",
            "https://covid19.mathdro.id/api/daily/2-15-2020\n",
            "https://covid19.mathdro.id/api/daily/2-16-2020\n",
            "https://covid19.mathdro.id/api/daily/2-17-2020\n",
            "https://covid19.mathdro.id/api/daily/2-18-2020\n",
            "https://covid19.mathdro.id/api/daily/2-19-2020\n",
            "https://covid19.mathdro.id/api/daily/2-20-2020\n",
            "https://covid19.mathdro.id/api/daily/2-21-2020\n",
            "https://covid19.mathdro.id/api/daily/2-22-2020\n",
            "https://covid19.mathdro.id/api/daily/2-23-2020\n",
            "https://covid19.mathdro.id/api/daily/2-24-2020\n",
            "https://covid19.mathdro.id/api/daily/2-25-2020\n",
            "https://covid19.mathdro.id/api/daily/2-26-2020\n",
            "https://covid19.mathdro.id/api/daily/2-27-2020\n",
            "https://covid19.mathdro.id/api/daily/2-28-2020\n",
            "https://covid19.mathdro.id/api/daily/2-29-2020\n",
            "https://covid19.mathdro.id/api/daily/3-1-2020\n",
            "https://covid19.mathdro.id/api/daily/3-2-2020\n",
            "https://covid19.mathdro.id/api/daily/3-3-2020\n",
            "https://covid19.mathdro.id/api/daily/3-4-2020\n",
            "https://covid19.mathdro.id/api/daily/3-5-2020\n",
            "https://covid19.mathdro.id/api/daily/3-6-2020\n",
            "https://covid19.mathdro.id/api/daily/3-7-2020\n",
            "https://covid19.mathdro.id/api/daily/3-8-2020\n",
            "https://covid19.mathdro.id/api/daily/3-9-2020\n",
            "https://covid19.mathdro.id/api/daily/3-10-2020\n",
            "https://covid19.mathdro.id/api/daily/3-11-2020\n",
            "https://covid19.mathdro.id/api/daily/3-12-2020\n",
            "https://covid19.mathdro.id/api/daily/3-13-2020\n",
            "https://covid19.mathdro.id/api/daily/3-14-2020\n",
            "https://covid19.mathdro.id/api/daily/3-15-2020\n"
          ],
          "name": "stdout"
        }
      ]
    },
    {
      "cell_type": "markdown",
      "metadata": {
        "id": "WYPeXPFD5YBd",
        "colab_type": "text"
      },
      "source": [
        "Let's see what one day's report list looks like.  We observe that it's a list of JSON blocks."
      ]
    },
    {
      "cell_type": "code",
      "metadata": {
        "id": "lfKxujqvb87N",
        "colab_type": "code",
        "outputId": "7f4d1ad5-94fe-4b0f-e8b1-dd22bce6d92f",
        "colab": {
          "base_uri": "https://localhost:8080/",
          "height": 1000
        }
      },
      "source": [
        "all_days_detail[4]"
      ],
      "execution_count": 6,
      "outputs": [
        {
          "output_type": "execute_result",
          "data": {
            "text/plain": [
              "[{'confirmed': '549',\n",
              "  'countryRegion': 'Mainland China',\n",
              "  'deaths': '24',\n",
              "  'lastUpdate': '1/24/20 17:00',\n",
              "  'recovered': '31',\n",
              "  '\\ufeffprovinceState': 'Hubei'},\n",
              " {'confirmed': '53',\n",
              "  'countryRegion': 'Mainland China',\n",
              "  'deaths': '',\n",
              "  'lastUpdate': '1/24/20 17:00',\n",
              "  'recovered': '2',\n",
              "  '\\ufeffprovinceState': 'Guangdong'},\n",
              " {'confirmed': '43',\n",
              "  'countryRegion': 'Mainland China',\n",
              "  'deaths': '',\n",
              "  'lastUpdate': '1/24/20 17:00',\n",
              "  'recovered': '1',\n",
              "  '\\ufeffprovinceState': 'Zhejiang'},\n",
              " {'confirmed': '36',\n",
              "  'countryRegion': 'Mainland China',\n",
              "  'deaths': '',\n",
              "  'lastUpdate': '1/24/20 17:00',\n",
              "  'recovered': '1',\n",
              "  '\\ufeffprovinceState': 'Beijing'},\n",
              " {'confirmed': '27',\n",
              "  'countryRegion': 'Mainland China',\n",
              "  'deaths': '',\n",
              "  'lastUpdate': '1/24/20 17:00',\n",
              "  'recovered': '',\n",
              "  '\\ufeffprovinceState': 'Chongqing'},\n",
              " {'confirmed': '24',\n",
              "  'countryRegion': 'Mainland China',\n",
              "  'deaths': '',\n",
              "  'lastUpdate': '1/24/20 17:00',\n",
              "  'recovered': '',\n",
              "  '\\ufeffprovinceState': 'Hunan'},\n",
              " {'confirmed': '23',\n",
              "  'countryRegion': 'Mainland China',\n",
              "  'deaths': '',\n",
              "  'lastUpdate': '1/24/20 17:00',\n",
              "  'recovered': '',\n",
              "  '\\ufeffprovinceState': 'Guangxi'},\n",
              " {'confirmed': '20',\n",
              "  'countryRegion': 'Mainland China',\n",
              "  'deaths': '',\n",
              "  'lastUpdate': '1/24/20 17:00',\n",
              "  'recovered': '1',\n",
              "  '\\ufeffprovinceState': 'Shanghai'},\n",
              " {'confirmed': '18',\n",
              "  'countryRegion': 'Mainland China',\n",
              "  'deaths': '',\n",
              "  'lastUpdate': '1/24/20 17:00',\n",
              "  'recovered': '',\n",
              "  '\\ufeffprovinceState': 'Jiangxi'},\n",
              " {'confirmed': '15',\n",
              "  'countryRegion': 'Mainland China',\n",
              "  'deaths': '',\n",
              "  'lastUpdate': '1/24/20 17:00',\n",
              "  'recovered': '',\n",
              "  '\\ufeffprovinceState': 'Sichuan'},\n",
              " {'confirmed': '15',\n",
              "  'countryRegion': 'Mainland China',\n",
              "  'deaths': '',\n",
              "  'lastUpdate': '1/24/20 17:00',\n",
              "  'recovered': '',\n",
              "  '\\ufeffprovinceState': 'Shandong'},\n",
              " {'confirmed': '15',\n",
              "  'countryRegion': 'Mainland China',\n",
              "  'deaths': '',\n",
              "  'lastUpdate': '1/24/20 17:00',\n",
              "  'recovered': '',\n",
              "  '\\ufeffprovinceState': 'Anhui'},\n",
              " {'confirmed': '10',\n",
              "  'countryRegion': 'Mainland China',\n",
              "  'deaths': '',\n",
              "  'lastUpdate': '1/24/20 17:00',\n",
              "  'recovered': '',\n",
              "  '\\ufeffprovinceState': 'Fujian'},\n",
              " {'confirmed': '9',\n",
              "  'countryRegion': 'Mainland China',\n",
              "  'deaths': '',\n",
              "  'lastUpdate': '1/24/20 17:00',\n",
              "  'recovered': '',\n",
              "  '\\ufeffprovinceState': 'Henan'},\n",
              " {'confirmed': '9',\n",
              "  'countryRegion': 'Mainland China',\n",
              "  'deaths': '',\n",
              "  'lastUpdate': '1/24/20 17:00',\n",
              "  'recovered': '',\n",
              "  '\\ufeffprovinceState': 'Jiangsu'},\n",
              " {'confirmed': '8',\n",
              "  'countryRegion': 'Mainland China',\n",
              "  'deaths': '',\n",
              "  'lastUpdate': '1/24/20 17:00',\n",
              "  'recovered': '',\n",
              "  '\\ufeffprovinceState': 'Hainan'},\n",
              " {'confirmed': '8',\n",
              "  'countryRegion': 'Mainland China',\n",
              "  'deaths': '',\n",
              "  'lastUpdate': '1/24/20 17:00',\n",
              "  'recovered': '',\n",
              "  '\\ufeffprovinceState': 'Tianjin'},\n",
              " {'confirmed': '5',\n",
              "  'countryRegion': 'Mainland China',\n",
              "  'deaths': '',\n",
              "  'lastUpdate': '1/24/20 17:00',\n",
              "  'recovered': '',\n",
              "  '\\ufeffprovinceState': 'Yunnan'},\n",
              " {'confirmed': '5',\n",
              "  'countryRegion': 'Mainland China',\n",
              "  'deaths': '',\n",
              "  'lastUpdate': '1/24/20 17:00',\n",
              "  'recovered': '',\n",
              "  '\\ufeffprovinceState': 'Shaanxi'},\n",
              " {'confirmed': '4',\n",
              "  'countryRegion': 'Mainland China',\n",
              "  'deaths': '1',\n",
              "  'lastUpdate': '1/24/20 17:00',\n",
              "  'recovered': '',\n",
              "  '\\ufeffprovinceState': 'Heilongjiang'},\n",
              " {'confirmed': '4',\n",
              "  'countryRegion': 'Mainland China',\n",
              "  'deaths': '',\n",
              "  'lastUpdate': '1/24/20 17:00',\n",
              "  'recovered': '',\n",
              "  '\\ufeffprovinceState': 'Liaoning'},\n",
              " {'confirmed': '3',\n",
              "  'countryRegion': 'Mainland China',\n",
              "  'deaths': '',\n",
              "  'lastUpdate': '1/24/20 17:00',\n",
              "  'recovered': '',\n",
              "  '\\ufeffprovinceState': 'Guizhou'},\n",
              " {'confirmed': '3',\n",
              "  'countryRegion': 'Mainland China',\n",
              "  'deaths': '',\n",
              "  'lastUpdate': '1/24/20 17:00',\n",
              "  'recovered': '',\n",
              "  '\\ufeffprovinceState': 'Jilin'},\n",
              " {'confirmed': '3',\n",
              "  'countryRegion': 'Taiwan',\n",
              "  'deaths': '',\n",
              "  'lastUpdate': '1/24/20 17:00',\n",
              "  'recovered': '',\n",
              "  '\\ufeffprovinceState': 'Taiwan'},\n",
              " {'confirmed': '2',\n",
              "  'countryRegion': 'Mainland China',\n",
              "  'deaths': '',\n",
              "  'lastUpdate': '1/24/20 17:00',\n",
              "  'recovered': '',\n",
              "  '\\ufeffprovinceState': 'Ningxia'},\n",
              " {'confirmed': '2',\n",
              "  'countryRegion': 'Hong Kong',\n",
              "  'deaths': '',\n",
              "  'lastUpdate': '1/24/20 17:00',\n",
              "  'recovered': '',\n",
              "  '\\ufeffprovinceState': 'Hong Kong'},\n",
              " {'confirmed': '2',\n",
              "  'countryRegion': 'Macau',\n",
              "  'deaths': '',\n",
              "  'lastUpdate': '1/24/20 17:00',\n",
              "  'recovered': '',\n",
              "  '\\ufeffprovinceState': 'Macau'},\n",
              " {'confirmed': '2',\n",
              "  'countryRegion': 'Mainland China',\n",
              "  'deaths': '1',\n",
              "  'lastUpdate': '1/24/20 17:00',\n",
              "  'recovered': '',\n",
              "  '\\ufeffprovinceState': 'Hebei'},\n",
              " {'confirmed': '2',\n",
              "  'countryRegion': 'Mainland China',\n",
              "  'deaths': '',\n",
              "  'lastUpdate': '1/24/20 17:00',\n",
              "  'recovered': '',\n",
              "  '\\ufeffprovinceState': 'Gansu'},\n",
              " {'confirmed': '2',\n",
              "  'countryRegion': 'Mainland China',\n",
              "  'deaths': '',\n",
              "  'lastUpdate': '1/24/20 17:00',\n",
              "  'recovered': '',\n",
              "  '\\ufeffprovinceState': 'Xinjiang'},\n",
              " {'confirmed': '1',\n",
              "  'countryRegion': 'Mainland China',\n",
              "  'deaths': '',\n",
              "  'lastUpdate': '1/24/20 17:00',\n",
              "  'recovered': '',\n",
              "  '\\ufeffprovinceState': 'Shanxi'},\n",
              " {'confirmed': '1',\n",
              "  'countryRegion': 'Mainland China',\n",
              "  'deaths': '',\n",
              "  'lastUpdate': '1/24/20 17:00',\n",
              "  'recovered': '',\n",
              "  '\\ufeffprovinceState': 'Inner Mongolia'},\n",
              " {'confirmed': '',\n",
              "  'countryRegion': 'Mainland China',\n",
              "  'deaths': '',\n",
              "  'lastUpdate': '1/24/20 17:00',\n",
              "  'recovered': '',\n",
              "  '\\ufeffprovinceState': 'Qinghai'},\n",
              " {'confirmed': '1',\n",
              "  'countryRegion': 'US',\n",
              "  'deaths': '',\n",
              "  'lastUpdate': '1/24/20 17:00',\n",
              "  'recovered': '',\n",
              "  '\\ufeffprovinceState': 'Washington'},\n",
              " {'confirmed': '1',\n",
              "  'countryRegion': 'US',\n",
              "  'deaths': '',\n",
              "  'lastUpdate': '1/24/20 17:00',\n",
              "  'recovered': '',\n",
              "  '\\ufeffprovinceState': 'Chicago'},\n",
              " {'confirmed': '2',\n",
              "  'countryRegion': 'Japan',\n",
              "  'deaths': '',\n",
              "  'lastUpdate': '1/24/20 17:00',\n",
              "  'recovered': '',\n",
              "  '\\ufeffprovinceState': ''},\n",
              " {'confirmed': '5',\n",
              "  'countryRegion': 'Thailand',\n",
              "  'deaths': '',\n",
              "  'lastUpdate': '1/24/20 17:00',\n",
              "  'recovered': '',\n",
              "  '\\ufeffprovinceState': ''},\n",
              " {'confirmed': '2',\n",
              "  'countryRegion': 'South Korea',\n",
              "  'deaths': '',\n",
              "  'lastUpdate': '1/24/20 17:00',\n",
              "  'recovered': '',\n",
              "  '\\ufeffprovinceState': ''},\n",
              " {'confirmed': '3',\n",
              "  'countryRegion': 'Singapore',\n",
              "  'deaths': '',\n",
              "  'lastUpdate': '1/24/20 17:00',\n",
              "  'recovered': '',\n",
              "  '\\ufeffprovinceState': ''},\n",
              " {'confirmed': '2',\n",
              "  'countryRegion': 'Vietnam',\n",
              "  'deaths': '',\n",
              "  'lastUpdate': '1/24/20 17:00',\n",
              "  'recovered': '',\n",
              "  '\\ufeffprovinceState': ''},\n",
              " {'confirmed': '2',\n",
              "  'countryRegion': 'France',\n",
              "  'deaths': '',\n",
              "  'lastUpdate': '1/24/20 17:00',\n",
              "  'recovered': '',\n",
              "  '\\ufeffprovinceState': ''}]"
            ]
          },
          "metadata": {
            "tags": []
          },
          "execution_count": 6
        }
      ]
    },
    {
      "cell_type": "markdown",
      "metadata": {
        "id": "OCFwdkbj5isS",
        "colab_type": "text"
      },
      "source": [
        "### Create a data frame with one report per row\n",
        "\n",
        "Iterate through the list of lists, and add each report to a PANDAS data frame.\n",
        "\n",
        "Note that early reports seemed to use a key name of `\\ufeffprovinceState` so where we detect that, we convert it to `provinceState`."
      ]
    },
    {
      "cell_type": "code",
      "metadata": {
        "id": "CeqI9piGZ4Vq",
        "colab_type": "code",
        "colab": {}
      },
      "source": [
        "df = pd.DataFrame(columns = ['provinceState', 'countryRegion', 'lastUpdate', 'confirmed', 'deaths', 'recovered'])\n",
        "#for day_detail in all_days_detail:\n",
        "for day_detail in all_days_detail:\n",
        "  for report_detail in day_detail:\n",
        "    # Early data has '\\ufeffprovinceState' as the key name, so fix it where it occurs.\n",
        "    if '\\ufeffprovinceState' in report_detail:\n",
        "      report_detail['provinceState'] = report_detail.get('\\ufeffprovinceState')\n",
        "      del report_detail['\\ufeffprovinceState']\n",
        "\n",
        "    report_detail['lastUpdate'] = pd.to_datetime(report_detail['lastUpdate'])\n",
        "    df = df.append(report_detail, ignore_index = True)\n"
      ],
      "execution_count": 0,
      "outputs": []
    },
    {
      "cell_type": "markdown",
      "metadata": {
        "id": "fPwgx2Ki56bA",
        "colab_type": "text"
      },
      "source": [
        "Let's take a look at some data in the middle of the data frame:"
      ]
    },
    {
      "cell_type": "code",
      "metadata": {
        "id": "VpeFBq4ViAZB",
        "colab_type": "code",
        "outputId": "1e5fd13e-daa3-47c5-edaa-ce10b19db862",
        "colab": {
          "base_uri": "https://localhost:8080/",
          "height": 419
        }
      },
      "source": [
        "df.tail(1000).head(100)"
      ],
      "execution_count": 10,
      "outputs": [
        {
          "output_type": "execute_result",
          "data": {
            "text/html": [
              "<div>\n",
              "<style scoped>\n",
              "    .dataframe tbody tr th:only-of-type {\n",
              "        vertical-align: middle;\n",
              "    }\n",
              "\n",
              "    .dataframe tbody tr th {\n",
              "        vertical-align: top;\n",
              "    }\n",
              "\n",
              "    .dataframe thead th {\n",
              "        text-align: right;\n",
              "    }\n",
              "</style>\n",
              "<table border=\"1\" class=\"dataframe\">\n",
              "  <thead>\n",
              "    <tr style=\"text-align: right;\">\n",
              "      <th></th>\n",
              "      <th>provinceState</th>\n",
              "      <th>countryRegion</th>\n",
              "      <th>lastUpdate</th>\n",
              "      <th>confirmed</th>\n",
              "      <th>deaths</th>\n",
              "      <th>recovered</th>\n",
              "      <th>latitude</th>\n",
              "      <th>longitude</th>\n",
              "    </tr>\n",
              "  </thead>\n",
              "  <tbody>\n",
              "    <tr>\n",
              "      <th>4632</th>\n",
              "      <td></td>\n",
              "      <td>Slovakia</td>\n",
              "      <td>2020-03-10 05:13:07</td>\n",
              "      <td>7</td>\n",
              "      <td>0</td>\n",
              "      <td>0</td>\n",
              "      <td>48.6690</td>\n",
              "      <td>19.6990</td>\n",
              "    </tr>\n",
              "    <tr>\n",
              "      <th>4633</th>\n",
              "      <td></td>\n",
              "      <td>South Africa</td>\n",
              "      <td>2020-03-10 05:13:07</td>\n",
              "      <td>7</td>\n",
              "      <td>0</td>\n",
              "      <td>0</td>\n",
              "      <td>-30.5595</td>\n",
              "      <td>22.9375</td>\n",
              "    </tr>\n",
              "    <tr>\n",
              "      <th>4634</th>\n",
              "      <td>North Carolina</td>\n",
              "      <td>US</td>\n",
              "      <td>2020-03-10 02:33:04</td>\n",
              "      <td>7</td>\n",
              "      <td>0</td>\n",
              "      <td>0</td>\n",
              "      <td>35.6301</td>\n",
              "      <td>-79.8064</td>\n",
              "    </tr>\n",
              "    <tr>\n",
              "      <th>4635</th>\n",
              "      <td>South Carolina</td>\n",
              "      <td>US</td>\n",
              "      <td>2020-03-10 02:33:04</td>\n",
              "      <td>7</td>\n",
              "      <td>0</td>\n",
              "      <td>0</td>\n",
              "      <td>33.8569</td>\n",
              "      <td>-80.9450</td>\n",
              "    </tr>\n",
              "    <tr>\n",
              "      <th>4636</th>\n",
              "      <td>Tennessee</td>\n",
              "      <td>US</td>\n",
              "      <td>2020-03-10 19:53:13</td>\n",
              "      <td>7</td>\n",
              "      <td>0</td>\n",
              "      <td>0</td>\n",
              "      <td>35.7478</td>\n",
              "      <td>-86.6923</td>\n",
              "    </tr>\n",
              "    <tr>\n",
              "      <th>...</th>\n",
              "      <td>...</td>\n",
              "      <td>...</td>\n",
              "      <td>...</td>\n",
              "      <td>...</td>\n",
              "      <td>...</td>\n",
              "      <td>...</td>\n",
              "      <td>...</td>\n",
              "      <td>...</td>\n",
              "    </tr>\n",
              "    <tr>\n",
              "      <th>4727</th>\n",
              "      <td>Henan</td>\n",
              "      <td>China</td>\n",
              "      <td>2020-03-11 08:13:09</td>\n",
              "      <td>1273</td>\n",
              "      <td>22</td>\n",
              "      <td>1249</td>\n",
              "      <td>33.8820</td>\n",
              "      <td>113.6140</td>\n",
              "    </tr>\n",
              "    <tr>\n",
              "      <th>4728</th>\n",
              "      <td>Zhejiang</td>\n",
              "      <td>China</td>\n",
              "      <td>2020-03-11 09:33:12</td>\n",
              "      <td>1215</td>\n",
              "      <td>1</td>\n",
              "      <td>1195</td>\n",
              "      <td>29.1832</td>\n",
              "      <td>120.0934</td>\n",
              "    </tr>\n",
              "    <tr>\n",
              "      <th>4729</th>\n",
              "      <td>Hunan</td>\n",
              "      <td>China</td>\n",
              "      <td>2020-03-11 02:18:14</td>\n",
              "      <td>1018</td>\n",
              "      <td>4</td>\n",
              "      <td>995</td>\n",
              "      <td>27.6104</td>\n",
              "      <td>111.7088</td>\n",
              "    </tr>\n",
              "    <tr>\n",
              "      <th>4730</th>\n",
              "      <td>Anhui</td>\n",
              "      <td>China</td>\n",
              "      <td>2020-03-11 02:18:14</td>\n",
              "      <td>990</td>\n",
              "      <td>6</td>\n",
              "      <td>984</td>\n",
              "      <td>31.8257</td>\n",
              "      <td>117.2264</td>\n",
              "    </tr>\n",
              "    <tr>\n",
              "      <th>4731</th>\n",
              "      <td>Jiangxi</td>\n",
              "      <td>China</td>\n",
              "      <td>2020-03-11 02:18:14</td>\n",
              "      <td>935</td>\n",
              "      <td>1</td>\n",
              "      <td>932</td>\n",
              "      <td>27.6140</td>\n",
              "      <td>115.7221</td>\n",
              "    </tr>\n",
              "  </tbody>\n",
              "</table>\n",
              "<p>100 rows × 8 columns</p>\n",
              "</div>"
            ],
            "text/plain": [
              "       provinceState countryRegion  ...  latitude longitude\n",
              "4632                      Slovakia  ...   48.6690   19.6990\n",
              "4633                  South Africa  ...  -30.5595   22.9375\n",
              "4634  North Carolina            US  ...   35.6301  -79.8064\n",
              "4635  South Carolina            US  ...   33.8569  -80.9450\n",
              "4636       Tennessee            US  ...   35.7478  -86.6923\n",
              "...              ...           ...  ...       ...       ...\n",
              "4727           Henan         China  ...   33.8820  113.6140\n",
              "4728        Zhejiang         China  ...   29.1832  120.0934\n",
              "4729           Hunan         China  ...   27.6104  111.7088\n",
              "4730           Anhui         China  ...   31.8257  117.2264\n",
              "4731         Jiangxi         China  ...   27.6140  115.7221\n",
              "\n",
              "[100 rows x 8 columns]"
            ]
          },
          "metadata": {
            "tags": []
          },
          "execution_count": 10
        }
      ]
    },
    {
      "cell_type": "markdown",
      "metadata": {
        "id": "0w50zz6y5-NN",
        "colab_type": "text"
      },
      "source": [
        "We can now do things like subsetting, etc."
      ]
    },
    {
      "cell_type": "code",
      "metadata": {
        "id": "1jTQzVrVkAD6",
        "colab_type": "code",
        "outputId": "b996c6a7-1718-433b-b45b-357b104f4ce3",
        "colab": {
          "base_uri": "https://localhost:8080/",
          "height": 111
        }
      },
      "source": [
        "df[df['provinceState'] == 'Fairfax County, VA']"
      ],
      "execution_count": 11,
      "outputs": [
        {
          "output_type": "execute_result",
          "data": {
            "text/html": [
              "<div>\n",
              "<style scoped>\n",
              "    .dataframe tbody tr th:only-of-type {\n",
              "        vertical-align: middle;\n",
              "    }\n",
              "\n",
              "    .dataframe tbody tr th {\n",
              "        vertical-align: top;\n",
              "    }\n",
              "\n",
              "    .dataframe thead th {\n",
              "        text-align: right;\n",
              "    }\n",
              "</style>\n",
              "<table border=\"1\" class=\"dataframe\">\n",
              "  <thead>\n",
              "    <tr style=\"text-align: right;\">\n",
              "      <th></th>\n",
              "      <th>provinceState</th>\n",
              "      <th>countryRegion</th>\n",
              "      <th>lastUpdate</th>\n",
              "      <th>confirmed</th>\n",
              "      <th>deaths</th>\n",
              "      <th>recovered</th>\n",
              "      <th>latitude</th>\n",
              "      <th>longitude</th>\n",
              "    </tr>\n",
              "  </thead>\n",
              "  <tbody>\n",
              "    <tr>\n",
              "      <th>4153</th>\n",
              "      <td>Fairfax County, VA</td>\n",
              "      <td>US</td>\n",
              "      <td>2020-03-08 21:33:02</td>\n",
              "      <td>2</td>\n",
              "      <td>0</td>\n",
              "      <td>0</td>\n",
              "      <td>38.9085</td>\n",
              "      <td>-77.2405</td>\n",
              "    </tr>\n",
              "    <tr>\n",
              "      <th>4416</th>\n",
              "      <td>Fairfax County, VA</td>\n",
              "      <td>US</td>\n",
              "      <td>2020-03-08 21:33:02</td>\n",
              "      <td>2</td>\n",
              "      <td>0</td>\n",
              "      <td>0</td>\n",
              "      <td>38.9085</td>\n",
              "      <td>-77.2405</td>\n",
              "    </tr>\n",
              "  </tbody>\n",
              "</table>\n",
              "</div>"
            ],
            "text/plain": [
              "           provinceState countryRegion  ... latitude longitude\n",
              "4153  Fairfax County, VA            US  ...  38.9085  -77.2405\n",
              "4416  Fairfax County, VA            US  ...  38.9085  -77.2405\n",
              "\n",
              "[2 rows x 8 columns]"
            ]
          },
          "metadata": {
            "tags": []
          },
          "execution_count": 11
        }
      ]
    },
    {
      "cell_type": "markdown",
      "metadata": {
        "id": "gKnvyzpb6BkW",
        "colab_type": "text"
      },
      "source": [
        "### Write out the data to a CSV file"
      ]
    },
    {
      "cell_type": "code",
      "metadata": {
        "id": "dlyXGQ7ea3up",
        "colab_type": "code",
        "colab": {}
      },
      "source": [
        "df.to_csv('reports.csv', index=None)"
      ],
      "execution_count": 0,
      "outputs": []
    },
    {
      "cell_type": "code",
      "metadata": {
        "id": "avCb7dM_lKnv",
        "colab_type": "code",
        "colab": {}
      },
      "source": [
        "# If you're in a Google Colab notebook, you'll need to this in order to download the report to your computer:\n",
        "\n",
        "# from google.colab import files\n",
        "# files.download('reports.csv')"
      ],
      "execution_count": 0,
      "outputs": []
    }
  ]
}